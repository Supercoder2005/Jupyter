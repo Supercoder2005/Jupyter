{
 "cells": [
  {
   "cell_type": "markdown",
   "metadata": {},
   "source": [
    "# Computing GCD"
   ]
  },
  {
   "cell_type": "code",
   "execution_count": null,
   "metadata": {},
   "outputs": [
    {
     "name": "stdout",
     "output_type": "stream",
     "text": [
      "2\n",
      "14\n"
     ]
    }
   ],
   "source": [
    "def gcd(m,n):\n",
    "    common_factors = []\n",
    "    for i in range(1,min(m,n)+1):   # because gcd of two numbers will always be lower than min of those two numbers\n",
    "        if (m%i) == 0 and (n%i) == 0:\n",
    "            common_factors.append(i)\n",
    "    return (common_factors[-1])     # it will give us the largest common factors , to access the end element we use the indexing -1\n",
    "\n",
    "print(gcd(122,12))\n",
    "print(gcd(14,56))"
   ]
  }
 ],
 "metadata": {
  "kernelspec": {
   "display_name": "myenv",
   "language": "python",
   "name": "python3"
  },
  "language_info": {
   "codemirror_mode": {
    "name": "ipython",
    "version": 3
   },
   "file_extension": ".py",
   "mimetype": "text/x-python",
   "name": "python",
   "nbconvert_exporter": "python",
   "pygments_lexer": "ipython3",
   "version": "3.12.5"
  }
 },
 "nbformat": 4,
 "nbformat_minor": 2
}
