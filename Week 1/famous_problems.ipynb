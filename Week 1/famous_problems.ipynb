{
 "cells": [
  {
   "cell_type": "markdown",
   "metadata": {},
   "source": [
    "# Computing GCD"
   ]
  },
  {
   "cell_type": "markdown",
   "metadata": {},
   "source": [
    "#### Using list of common factors "
   ]
  },
  {
   "cell_type": "code",
   "execution_count": 11,
   "metadata": {},
   "outputs": [
    {
     "name": "stdout",
     "output_type": "stream",
     "text": [
      "2\n",
      "14\n"
     ]
    }
   ],
   "source": [
    "def gcd(m,n):\n",
    "    common_factors = []\n",
    "    for i in range(1,min(m,n)+1):   # because gcd of two numbers will always be lower than min of those two numbers\n",
    "        if (m%i) == 0 and (n%i) == 0:\n",
    "            common_factors.append(i)\n",
    "    return (common_factors[-1])     # it will give us the largest common factors , to access the end element we use the indexing -1\n",
    "\n",
    "print(gcd(122,12))\n",
    "print(gcd(14,56))"
   ]
  },
  {
   "cell_type": "markdown",
   "metadata": {},
   "source": [
    "#### with out using list"
   ]
  },
  {
   "cell_type": "code",
   "execution_count": 13,
   "metadata": {},
   "outputs": [
    {
     "name": "stdout",
     "output_type": "stream",
     "text": [
      "5\n",
      "11\n",
      "1\n"
     ]
    }
   ],
   "source": [
    "def gcd(m,n):\n",
    "    for i in range(1,min(m,n)+1):\n",
    "        if (m%i) == 0 and (n%i) == 0:\n",
    "            ans = i \n",
    "    return i \n",
    "\n",
    "print(gcd(5,155))\n",
    "print(gcd(11,121))\n",
    "print(gcd(1,9))\n"
   ]
  },
  {
   "cell_type": "markdown",
   "metadata": {},
   "source": [
    "# Checking a number is Prime Number or not"
   ]
  },
  {
   "cell_type": "code",
   "execution_count": 21,
   "metadata": {},
   "outputs": [
    {
     "name": "stdout",
     "output_type": "stream",
     "text": [
      "False\n",
      "True\n",
      "False\n"
     ]
    }
   ],
   "source": [
    "def factors(num):\n",
    "    l = []\n",
    "    for i in range(1,num+1):\n",
    "        if num%i == 0:\n",
    "            l.append(i)\n",
    "    return l \n",
    "\n",
    "def prime(num):\n",
    "    if factors(num) == [1,num]:\n",
    "        return True \n",
    "    else:\n",
    "        return False \n",
    "    \n",
    "print(prime(122))\n",
    "print(prime(2))\n",
    "print(prime(190))"
   ]
  }
 ],
 "metadata": {
  "kernelspec": {
   "display_name": "myenv",
   "language": "python",
   "name": "python3"
  },
  "language_info": {
   "codemirror_mode": {
    "name": "ipython",
    "version": 3
   },
   "file_extension": ".py",
   "mimetype": "text/x-python",
   "name": "python",
   "nbconvert_exporter": "python",
   "pygments_lexer": "ipython3",
   "version": "3.12.5"
  }
 },
 "nbformat": 4,
 "nbformat_minor": 2
}
