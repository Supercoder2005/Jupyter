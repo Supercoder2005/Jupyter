{
 "cells": [
  {
   "cell_type": "markdown",
   "metadata": {},
   "source": [
    "# Computing GCD"
   ]
  },
  {
   "cell_type": "markdown",
   "metadata": {},
   "source": [
    "#### Using list of common factors "
   ]
  },
  {
   "cell_type": "code",
   "execution_count": 40,
   "metadata": {},
   "outputs": [
    {
     "name": "stdout",
     "output_type": "stream",
     "text": [
      "2\n",
      "14\n"
     ]
    }
   ],
   "source": [
    "def gcd(m,n):\n",
    "    common_factors = []\n",
    "    for i in range(1,min(m,n)+1):   # because gcd of two numbers will always be lower than min of those two numbers\n",
    "        if (m%i) == 0 and (n%i) == 0:\n",
    "            common_factors.append(i)\n",
    "    return (common_factors[-1])     # it will give us the largest common factors , to access the end element we use the indexing -1\n",
    "\n",
    "print(gcd(122,12))\n",
    "print(gcd(14,56))"
   ]
  },
  {
   "cell_type": "markdown",
   "metadata": {},
   "source": [
    "#### with out using list"
   ]
  },
  {
   "cell_type": "code",
   "execution_count": 41,
   "metadata": {},
   "outputs": [
    {
     "name": "stdout",
     "output_type": "stream",
     "text": [
      "5\n",
      "11\n",
      "1\n"
     ]
    }
   ],
   "source": [
    "def gcd(m,n):\n",
    "    for i in range(1,min(m,n)+1):\n",
    "        if (m%i) == 0 and (n%i) == 0:\n",
    "            ans = i \n",
    "    return i \n",
    "\n",
    "print(gcd(5,155))\n",
    "print(gcd(11,121))\n",
    "print(gcd(1,9))\n"
   ]
  },
  {
   "cell_type": "markdown",
   "metadata": {},
   "source": [
    "# Checking a number is Prime Number or not"
   ]
  },
  {
   "cell_type": "code",
   "execution_count": 42,
   "metadata": {},
   "outputs": [],
   "source": [
    "def factors(num):\n",
    "    l = []\n",
    "    for i in range(1,num+1):\n",
    "        if num%i == 0:\n",
    "            l.append(i)\n",
    "    return l "
   ]
  },
  {
   "cell_type": "code",
   "execution_count": 43,
   "metadata": {},
   "outputs": [],
   "source": [
    "def prime(num):\n",
    "    if factors(num) == [1,num]:\n",
    "        return True \n",
    "    else:\n",
    "        return False"
   ]
  },
  {
   "cell_type": "code",
   "execution_count": 44,
   "metadata": {},
   "outputs": [
    {
     "name": "stdout",
     "output_type": "stream",
     "text": [
      "False\n",
      "True\n",
      "False\n"
     ]
    }
   ],
   "source": [
    "print(prime(122))\n",
    "print(prime(2))\n",
    "print(prime(190))"
   ]
  },
  {
   "cell_type": "markdown",
   "metadata": {},
   "source": [
    "# List all primes upto a given limit"
   ]
  },
  {
   "cell_type": "code",
   "execution_count": 47,
   "metadata": {},
   "outputs": [
    {
     "name": "stdout",
     "output_type": "stream",
     "text": [
      "[2, 3, 5, 7, 11, 13, 17, 19, 23, 29]\n"
     ]
    }
   ],
   "source": [
    "def primes_upto(n):\n",
    "    pl = [] #prime list \n",
    "    for i in range(1,n+1):\n",
    "        if prime(i):\n",
    "            pl.append(i)\n",
    "    return pl \n",
    "\n",
    "print(primes_upto(30))"
   ]
  },
  {
   "cell_type": "markdown",
   "metadata": {},
   "source": [
    "# List of the first n primes"
   ]
  },
  {
   "cell_type": "code",
   "execution_count": 48,
   "metadata": {},
   "outputs": [
    {
     "name": "stdout",
     "output_type": "stream",
     "text": [
      "[2, 3, 5, 7, 11, 13, 17, 19, 23, 29, 31, 37, 41, 43, 47, 53, 59, 61, 67, 71, 73, 79, 83, 89, 97, 101, 103, 107, 109, 113, 127, 131, 137, 139, 149, 151, 157, 163, 167, 173, 179, 181, 191, 193, 197, 199, 211, 223, 227, 229]\n"
     ]
    }
   ],
   "source": [
    "def first_n_primes(n):\n",
    "    (count,i,pl) = (0,1,[])  #Multiple assignment to different variables \n",
    "    while (count<n):\n",
    "        if (prime(i)):\n",
    "            pl.append(i)\n",
    "            count = count +1 \n",
    "        i = i+1 \n",
    "    return pl \n",
    "\n",
    "print(first_n_primes(50))"
   ]
  },
  {
   "cell_type": "markdown",
   "metadata": {},
   "source": [
    "# Computing primes (more efficient code)"
   ]
  },
  {
   "cell_type": "code",
   "execution_count": 49,
   "metadata": {},
   "outputs": [
    {
     "name": "stdout",
     "output_type": "stream",
     "text": [
      "True\n"
     ]
    }
   ],
   "source": [
    "def prime(num):\n",
    "    flag = True \n",
    "    for i in range (2,num):  # directly check if num has a factor between 2 and num-1\n",
    "        if(num%i) == 0:\n",
    "            flag = False \n",
    "            break \n",
    "    return flag\n",
    "print(prime(23))\n",
    "            "
   ]
  },
  {
   "cell_type": "markdown",
   "metadata": {},
   "source": [
    "#### Without using break and using while loop"
   ]
  },
  {
   "cell_type": "code",
   "execution_count": 51,
   "metadata": {},
   "outputs": [
    {
     "name": "stdout",
     "output_type": "stream",
     "text": [
      "True\n"
     ]
    }
   ],
   "source": [
    "def prime(num):\n",
    "    (result,i) = (True,2)\n",
    "    while(result and(i<num)):\n",
    "        if(num%i)==0:\n",
    "            result = False \n",
    "        i += 1 \n",
    "    return (result)\n",
    "print(prime(53))\n"
   ]
  }
 ],
 "metadata": {
  "kernelspec": {
   "display_name": "myenv",
   "language": "python",
   "name": "python3"
  },
  "language_info": {
   "codemirror_mode": {
    "name": "ipython",
    "version": 3
   },
   "file_extension": ".py",
   "mimetype": "text/x-python",
   "name": "python",
   "nbconvert_exporter": "python",
   "pygments_lexer": "ipython3",
   "version": "3.12.5"
  }
 },
 "nbformat": 4,
 "nbformat_minor": 2
}
