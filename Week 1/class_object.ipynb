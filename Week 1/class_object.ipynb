{
 "cells": [
  {
   "cell_type": "markdown",
   "metadata": {},
   "source": [
    "# Classes and Objects Understanding "
   ]
  },
  {
   "cell_type": "markdown",
   "metadata": {},
   "source": [
    "#### Create a 2D point / coordinate"
   ]
  },
  {
   "cell_type": "code",
   "execution_count": 9,
   "metadata": {},
   "outputs": [],
   "source": [
    "class point:\n",
    "    def __init__(self,a=0,b=0):         # init initializes internal values x,y , first parameter is always self\n",
    "        self.x = a \n",
    "        self.y = b"
   ]
  },
  {
   "cell_type": "code",
   "execution_count": 11,
   "metadata": {},
   "outputs": [
    {
     "name": "stdout",
     "output_type": "stream",
     "text": [
      "<__main__.point object at 0x000001B8F2008D40> <__main__.point object at 0x000001B8F1F57830>\n"
     ]
    }
   ],
   "source": [
    "a = point(3,4)\n",
    "b = point(6,4)\n",
    "print(a,b)"
   ]
  },
  {
   "cell_type": "markdown",
   "metadata": {},
   "source": [
    "#### Translation (shift a point by (delta x,delta y))"
   ]
  },
  {
   "cell_type": "code",
   "execution_count": 2,
   "metadata": {},
   "outputs": [],
   "source": [
    "def translate(self,deltax,deltay):\n",
    "    self.x += deltax \n",
    "    self.y += deltay"
   ]
  },
  {
   "cell_type": "markdown",
   "metadata": {},
   "source": [
    "#### Distance from the origin "
   ]
  },
  {
   "cell_type": "code",
   "execution_count": null,
   "metadata": {},
   "outputs": [],
   "source": [
    "def distance_from_origin(self):\n",
    "    import math \n",
    "    d = math.sqrt(self.x * self.x + self.y * self.y)\n",
    "    return d "
   ]
  },
  {
   "cell_type": "markdown",
   "metadata": {},
   "source": [
    "### Polar Coordinates"
   ]
  },
  {
   "cell_type": "code",
   "execution_count": 17,
   "metadata": {},
   "outputs": [],
   "source": [
    "import math \n",
    "class PolarPoint :\n",
    "\n",
    "    def __init__(self,a=0,b=0):\n",
    "        self.r = math.sqrt (a*a + b*b)\n",
    "\n",
    "        if a==0:\n",
    "            self.theta = math.pi \n",
    "        else:\n",
    "            self.theta = math.atan(b/a)\n"
   ]
  },
  {
   "cell_type": "markdown",
   "metadata": {},
   "source": [
    "#### Distance from origin"
   ]
  },
  {
   "cell_type": "code",
   "execution_count": null,
   "metadata": {},
   "outputs": [],
   "source": [
    "def distance_from_origin(self):\n",
    "    return (self.r)"
   ]
  },
  {
   "cell_type": "markdown",
   "metadata": {},
   "source": [
    "### Translation"
   ]
  },
  {
   "cell_type": "code",
   "execution_count": 7,
   "metadata": {},
   "outputs": [],
   "source": [
    "def translate(self,deltax,deltay):\n",
    "    x = self.r * math.cos(self.theta)\n",
    "    y = self.r * math.sin(self.theta)\n",
    "\n",
    "    x += deltax \n",
    "    y += deltay \n",
    "\n",
    "    self.r = math.sqrt(x*x + y*y)\n",
    "    if x == 0:\n",
    "        self.theta = math.pi/2\n",
    "    else:\n",
    "        self.theta = math.atan(x/y)"
   ]
  },
  {
   "cell_type": "markdown",
   "metadata": {},
   "source": [
    "# Final code to create and manipulate 2D points"
   ]
  },
  {
   "cell_type": "code",
   "execution_count": null,
   "metadata": {},
   "outputs": [],
   "source": [
    "class Point:\n",
    "    def __init__(self,a=0,b=0):\n",
    "        self.x = a \n",
    "        self.y = b \n",
    "    def translate(self,deltax,deltay):\n",
    "        self.x += deltax\n",
    "        self.y += deltay \n",
    "    def distance_from_origin(self):\n",
    "        import math \n",
    "        d = math.sqrt(self.x * self.x + self.y * self.y)\n",
    "        return (d)"
   ]
  },
  {
   "cell_type": "code",
   "execution_count": 14,
   "metadata": {},
   "outputs": [],
   "source": [
    "p = Point(4,3)\n",
    "q = Point(76,34)"
   ]
  },
  {
   "cell_type": "code",
   "execution_count": 15,
   "metadata": {},
   "outputs": [
    {
     "data": {
      "text/plain": [
       "(5.0, 83.2586331859946)"
      ]
     },
     "execution_count": 15,
     "metadata": {},
     "output_type": "execute_result"
    }
   ],
   "source": [
    "p.distance_from_origin(),q.distance_from_origin()\n"
   ]
  }
 ],
 "metadata": {
  "kernelspec": {
   "display_name": "myenv",
   "language": "python",
   "name": "python3"
  },
  "language_info": {
   "codemirror_mode": {
    "name": "ipython",
    "version": 3
   },
   "file_extension": ".py",
   "mimetype": "text/x-python",
   "name": "python",
   "nbconvert_exporter": "python",
   "pygments_lexer": "ipython3",
   "version": "3.12.5"
  }
 },
 "nbformat": 4,
 "nbformat_minor": 2
}
